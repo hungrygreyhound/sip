{
 "cells": [
  {
   "cell_type": "markdown",
   "id": "d0497091",
   "metadata": {},
   "source": [
    "# Markov Chains using SIP Corpus"
   ]
  },
  {
   "cell_type": "code",
   "execution_count": 54,
   "id": "c4502e6a",
   "metadata": {},
   "outputs": [
    {
     "name": "stdout",
     "output_type": "stream",
     "text": [
      "Requirement already satisfied: markovify in /Applications/anaconda3/lib/python3.9/site-packages (0.9.3)\n",
      "Requirement already satisfied: unidecode in /Applications/anaconda3/lib/python3.9/site-packages (from markovify) (1.2.0)\n",
      "Note: you may need to restart the kernel to use updated packages.\n"
     ]
    }
   ],
   "source": [
    "pip install markovify\n"
   ]
  },
  {
   "cell_type": "code",
   "execution_count": 55,
   "id": "bae8e6b6",
   "metadata": {},
   "outputs": [],
   "source": [
    "import markovify"
   ]
  },
  {
   "cell_type": "code",
   "execution_count": 56,
   "id": "9fb34881",
   "metadata": {},
   "outputs": [],
   "source": [
    "import random"
   ]
  },
  {
   "cell_type": "code",
   "execution_count": 57,
   "id": "31a32cd5",
   "metadata": {},
   "outputs": [],
   "source": [
    "with open(\"body/bodyone.txt\") as f:\n",
    "  text = f.read()"
   ]
  },
  {
   "cell_type": "code",
   "execution_count": 58,
   "id": "dbd11bfc",
   "metadata": {},
   "outputs": [],
   "source": [
    "text_model = markovify.Text(text)"
   ]
  },
  {
   "cell_type": "code",
   "execution_count": 59,
   "id": "8c19bb0d",
   "metadata": {},
   "outputs": [
    {
     "name": "stdout",
     "output_type": "stream",
     "text": [
      "Current topical terms include Artificial Intelligence, IoT and Blockchain, but due to be in the environment we can feel, touch and circumnavigate language.\n"
     ]
    }
   ],
   "source": [
    "print( text_model.make_sentence() )"
   ]
  },
  {
   "cell_type": "code",
   "execution_count": 60,
   "id": "2591c750",
   "metadata": {},
   "outputs": [
    {
     "name": "stdout",
     "output_type": "stream",
     "text": [
      "Stage One – Construct a research presentation Produce a piece of contextual research in which this project as a visual form.\n"
     ]
    }
   ],
   "source": [
    "# generate a short sentence\n",
    "print(text_model.make_short_sentence(140))"
   ]
  },
  {
   "cell_type": "code",
   "execution_count": 61,
   "id": "2602e701",
   "metadata": {},
   "outputs": [
    {
     "name": "stdout",
     "output_type": "stream",
     "text": [
      "In order to imagine alternatives, construct a form of communication seen in various formats.\n",
      "What is interesting to our lives?\n",
      "You can record your research in which graphic and media which should be sought.\n"
     ]
    }
   ],
   "source": [
    "for i in range(3):\n",
    "  print( text_model.make_sentence() )"
   ]
  },
  {
   "cell_type": "code",
   "execution_count": null,
   "id": "2a8b0047",
   "metadata": {},
   "outputs": [],
   "source": []
  },
  {
   "cell_type": "code",
   "execution_count": null,
   "id": "fe083629",
   "metadata": {},
   "outputs": [],
   "source": []
  }
 ],
 "metadata": {
  "kernelspec": {
   "display_name": "Python 3 (ipykernel)",
   "language": "python",
   "name": "python3"
  },
  "language_info": {
   "codemirror_mode": {
    "name": "ipython",
    "version": 3
   },
   "file_extension": ".py",
   "mimetype": "text/x-python",
   "name": "python",
   "nbconvert_exporter": "python",
   "pygments_lexer": "ipython3",
   "version": "3.9.7"
  }
 },
 "nbformat": 4,
 "nbformat_minor": 5
}
